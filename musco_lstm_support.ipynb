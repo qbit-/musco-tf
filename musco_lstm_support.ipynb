{
 "cells": [
  {
   "cell_type": "code",
   "execution_count": 21,
   "metadata": {
    "id": "WW9DzjeuWFfZ"
   },
   "outputs": [],
   "source": [
    "#\n",
    "# This example is for the implementation of TimeDistributed / LSTM layers in MUSCo\n",
    "#"
   ]
  },
  {
   "cell_type": "code",
   "execution_count": 1,
   "metadata": {
    "id": "8uDnXR6eWVze"
   },
   "outputs": [],
   "source": [
    "import numpy as np\n",
    "import pandas as pd\n",
    "import matplotlib.pyplot as plt\n",
    "import matplotlib.image as mpimg\n",
    "from tqdm import tqdm\n",
    "from glob import glob\n",
    "import importlib\n",
    "from IPython.core.debugger import set_trace"
   ]
  },
  {
   "cell_type": "code",
   "execution_count": 2,
   "metadata": {
    "id": "-3EBT4k4XF7b"
   },
   "outputs": [],
   "source": [
    "import tensorflow as tf\n",
    "from tensorflow import keras\n",
    "from tensorflow.keras import layers"
   ]
  },
  {
   "cell_type": "code",
   "execution_count": 3,
   "metadata": {},
   "outputs": [],
   "source": [
    "import musco\n",
    "from musco.tf.compressor.compress import compress_seq, compress_noseq"
   ]
  },
  {
   "cell_type": "code",
   "execution_count": 4,
   "metadata": {
    "id": "nhT-rTAbXf2y"
   },
   "outputs": [],
   "source": [
    "def prepare_data(batch_size=20, test_batch_size=1000):\n",
    "    # prepare mnist dataset\n",
    "    num_class = 10\n",
    "\n",
    "    # Load and preprocess the dataset\n",
    "    # data shape is x: [?, n_rows, n_columns], y: [?, 1]\n",
    "    (x_train, y_train), (x_test, y_test) = keras.datasets.mnist.load_data()\n",
    "\n",
    "    # data shape is x: [n_examples, n_rows, n_columns], y: [?, n_class]\n",
    "    # train_ds is infinitely repeated\n",
    "    train_ds = tf.data.Dataset.from_tensor_slices((x_train, y_train))\n",
    "    train_ds = train_ds.map(lambda x, y: (x / 255,\n",
    "                      tf.one_hot(y, depth=num_class)))\n",
    "    train_ds = train_ds.shuffle(buffer_size=1024).batch(batch_size)\n",
    "\n",
    "    test_ds =  tf.data.Dataset.from_tensor_slices((x_test, y_test))\n",
    "    test_ds = test_ds.map(lambda x, y: (x / 255,\n",
    "                      tf.one_hot(y, depth=num_class)))\n",
    "    test_ds = test_ds.batch(test_batch_size)\n",
    "    return train_ds, test_ds"
   ]
  },
  {
   "cell_type": "code",
   "execution_count": 5,
   "metadata": {
    "id": "T8_EWYFwXPJV"
   },
   "outputs": [],
   "source": [
    "def get_td_model():\n",
    "    input_x = layers.Input(shape=(28, 28))\n",
    "    out = layers.Reshape([7, 112])(input_x)\n",
    "    out = layers.TimeDistributed(layers.Dense(32, activation='relu'), name='td_0')(out)\n",
    "    out = layers.Flatten()(out)\n",
    "    out = layers.Dense(10, name='dense0', activation='sigmoid')(out)\n",
    "    return keras.Model(inputs=input_x, outputs=out)\n"
   ]
  },
  {
   "cell_type": "code",
   "execution_count": 6,
   "metadata": {
    "id": "B8aOKvP-YFPC"
   },
   "outputs": [],
   "source": [
    "def get_lstm_model():\n",
    "    input_x = layers.Input(shape=(28, 28))\n",
    "    out = layers.Reshape([7, 112])(input_x)\n",
    "    out = layers.LSTM(\n",
    "        32, return_sequences=False, name='lstm_0')(out)\n",
    "    out = layers.Dense(10, name='dense0', activation='sigmoid')(out)\n",
    "    return keras.Model(inputs=input_x, outputs=out)\n"
   ]
  },
  {
   "cell_type": "code",
   "execution_count": 7,
   "metadata": {
    "id": "o7os_-C4Y59T"
   },
   "outputs": [],
   "source": [
    "def get_functional_model():\n",
    "    input_x = layers.Input(shape=(28, 28))\n",
    "    out = layers.Flatten()(input_x)\n",
    "    bypass = out\n",
    "    out = layers.Dense(32, activation='relu', name='fc_0')(out)\n",
    "    out = layers.Concatenate()([out, bypass])\n",
    "    out = layers.Dense(10, activation='sigmoid', name='fc_1')(out)\n",
    "    return keras.Model(inputs=input_x, outputs=out)\n"
   ]
  },
  {
   "cell_type": "code",
   "execution_count": 8,
   "metadata": {
    "id": "tJXlQTUEY8kI"
   },
   "outputs": [],
   "source": [
    "def train_model(model, train_ds, test_ds, epochs=5, verbose=0):\n",
    "    model.compile(loss='categorical_crossentropy', metrics=['categorical_accuracy'])\n",
    "    hist = model.fit(train_ds, epochs=epochs, validation_data=test_ds, verbose=verbose)\n",
    "    accuracy_val = hist.history['val_categorical_accuracy'][-1]\n",
    "    loss_val = hist.history['val_loss'][-1]\n",
    "    return loss_val, accuracy_val\n"
   ]
  },
  {
   "cell_type": "code",
   "execution_count": 9,
   "metadata": {},
   "outputs": [
    {
     "data": {
      "text/plain": [
       "(0.1614006906747818, 0.9537000060081482)"
      ]
     },
     "execution_count": 9,
     "metadata": {},
     "output_type": "execute_result"
    }
   ],
   "source": [
    "model = get_functional_model()\n",
    "train_ds, test_ds = prepare_data(batch_size=64, test_batch_size=1024)\n",
    "train_model(model, train_ds, test_ds, verbose=1)"
   ]
  },
  {
   "cell_type": "code",
   "execution_count": 15,
   "metadata": {
    "id": "idvFgCzLb7xS"
   },
   "outputs": [],
   "source": [
    "#\n",
    "# Tests which MUSCo should eventually pass\n",
    "#"
   ]
  },
  {
   "cell_type": "code",
   "execution_count": 18,
   "metadata": {},
   "outputs": [
    {
     "name": "stdout",
     "output_type": "stream",
     "text": [
      "Automatic pdb calling has been turned OFF\n"
     ]
    }
   ],
   "source": [
    "%pdb off"
   ]
  },
  {
   "cell_type": "code",
   "execution_count": 15,
   "metadata": {
    "colab": {
     "base_uri": "https://localhost:8080/",
     "height": 392
    },
    "id": "uSxBzQStdHn3",
    "outputId": "4200aa85-b947-45cb-d87e-aaec4432d7d2"
   },
   "outputs": [
    {
     "name": "stderr",
     "output_type": "stream",
     "text": [
      "100%|██████████| 5/5 [00:00<00:00, 30.50it/s]\n"
     ]
    },
    {
     "name": "stdout",
     "output_type": "stream",
     "text": [
      "Epoch 1/2\n",
      "938/938 [==============================] - 6s 6ms/step - loss: 0.5239 - categorical_accuracy: 0.8527 - val_loss: 0.3405 - val_categorical_accuracy: 0.9005\n",
      "Epoch 2/2\n",
      "938/938 [==============================] - 6s 6ms/step - loss: 0.3288 - categorical_accuracy: 0.9058 - val_loss: 0.3163 - val_categorical_accuracy: 0.9101\n"
     ]
    },
    {
     "data": {
      "text/plain": [
       "(0.31628841161727905, 0.910099983215332)"
      ]
     },
     "execution_count": 15,
     "metadata": {},
     "output_type": "execute_result"
    }
   ],
   "source": [
    "# TimeDistributed\n",
    "model = get_td_model()\n",
    "train_ds, test_ds = prepare_data(batch_size=64, test_batch_size=1024)\n",
    "model.compile(loss='categorical_crossentropy', metrics=['categorical_accuracy'])\n",
    "decompose_info = {'td_0': ('svd', 10)}\n",
    "model_compress = compress_seq(model, decompose_info)\n",
    "train_model(model_compress, train_ds, test_ds, epochs=2, verbose=1)"
   ]
  },
  {
   "cell_type": "code",
   "execution_count": 19,
   "metadata": {
    "colab": {
     "base_uri": "https://localhost:8080/",
     "height": 362
    },
    "id": "SWNBTK21fCK6",
    "outputId": "9831b861-085b-484a-cf94-360b501b6543"
   },
   "outputs": [
    {
     "name": "stderr",
     "output_type": "stream",
     "text": [
      "100%|██████████| 4/4 [00:00<00:00, 14.33it/s]\n"
     ]
    },
    {
     "name": "stdout",
     "output_type": "stream",
     "text": [
      "938/938 [==============================] - 11s 12ms/step - loss: 1.7097 - categorical_accuracy: 0.4415 - val_loss: 1.1080 - val_categorical_accuracy: 0.6591\n"
     ]
    },
    {
     "data": {
      "text/plain": [
       "(1.1079920530319214, 0.6590999960899353)"
      ]
     },
     "execution_count": 19,
     "metadata": {},
     "output_type": "execute_result"
    }
   ],
   "source": [
    "# LSTM\n",
    "model = get_lstm_model()\n",
    "train_ds, test_ds = prepare_data(batch_size=64, test_batch_size=1024)\n",
    "model.compile(loss='categorical_crossentropy', metrics=['categorical_accuracy'])\n",
    "decompose_info = {'lstm_0': ('svd', 10)}\n",
    "model_compress = compress_seq(model, decompose_info)\n",
    "train_model(model_compress, train_ds, test_ds, epochs=1, verbose=1)"
   ]
  },
  {
   "cell_type": "code",
   "execution_count": 10,
   "metadata": {
    "colab": {
     "base_uri": "https://localhost:8080/",
     "height": 345
    },
    "id": "alCPhhHGfHLY",
    "outputId": "09f97dfa-f11d-4e4c-d559-2f09c71e6b8a"
   },
   "outputs": [
    {
     "name": "stderr",
     "output_type": "stream",
     "text": [
      "{Insert layers}: 100%|██████████| 4/4 [00:00<00:00, 141.92it/s]\n",
      "{Reconstruction}: 100%|██████████| 4/4 [00:00<00:00, 134.20it/s]\n"
     ]
    },
    {
     "name": "stdout",
     "output_type": "stream",
     "text": [
      "938/938 [==============================] - 5s 5ms/step - loss: 0.4484 - categorical_accuracy: 0.8824 - val_loss: 0.3031 - val_categorical_accuracy: 0.9131\n"
     ]
    },
    {
     "data": {
      "text/plain": [
       "(0.30307307839393616, 0.913100004196167)"
      ]
     },
     "execution_count": 10,
     "metadata": {},
     "output_type": "execute_result"
    }
   ],
   "source": [
    "# Non-sequential models\n",
    "model = get_functional_model()\n",
    "train_ds, test_ds = prepare_data(batch_size=64, test_batch_size=1024)\n",
    "model.compile(loss='categorical_crossentropy', metrics=['categorical_accuracy'])\n",
    "decompose_info = {'fc_0': ('svd', 10)}\n",
    "# set_trace()\n",
    "model_compress = compress_noseq(model, decompose_info)\n",
    "train_model(model_compress, train_ds, test_ds, epochs=1, verbose=1)"
   ]
  }
 ],
 "metadata": {
  "colab": {
   "collapsed_sections": [],
   "name": "Копия блокнота \"musco_lstm_support.ipynb\"",
   "provenance": []
  },
  "kernelspec": {
   "display_name": "asr",
   "language": "python",
   "name": "asr"
  },
  "language_info": {
   "codemirror_mode": {
    "name": "ipython",
    "version": 3
   },
   "file_extension": ".py",
   "mimetype": "text/x-python",
   "name": "python",
   "nbconvert_exporter": "python",
   "pygments_lexer": "ipython3",
   "version": "3.7.5"
  }
 },
 "nbformat": 4,
 "nbformat_minor": 4
}
